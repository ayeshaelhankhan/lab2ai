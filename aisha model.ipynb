{
 "cells": [
  {
   "cell_type": "code",
   "execution_count": 1,
   "id": "ccb63c16-139e-4486-af6c-0b6b21d55967",
   "metadata": {},
   "outputs": [
    {
     "name": "stdout",
     "output_type": "stream",
     "text": [
      "Prediction: ['Yes' 'No' 'No']\n",
      "Confusion Matrix:\n",
      "[[1 0]\n",
      " [1 1]]\n",
      "Accuracy: 0.6666666666666666\n"
     ]
    }
   ],
   "source": [
    "import numpy as np\n",
    "from sklearn import preprocessing\n",
    "from sklearn.neighbors import KNeighborsClassifier\n",
    "from sklearn.metrics import confusion_matrix, accuracy_score\n",
    "from sklearn.model_selection import train_test_split\n",
    "\n",
    "# Sample data\n",
    "weather = ['Sunny', 'Sunny', 'Overcast', 'Rain', 'Rain', \n",
    "           'Overcast', 'Sunny', 'Rain', 'Sunny', 'Overcast', 'Rain']\n",
    "temperature = ['Hot', 'Mild', 'Hot', 'Mild', 'Cool', \n",
    "               'Cool', 'Cool', 'Mild', 'Mild', 'Hot', 'Mild']\n",
    "play = ['No', 'No', 'Yes', 'Yes', 'No', \n",
    "        'Yes', 'Yes', 'Yes', 'No', 'Yes', 'No']\n",
    "\n",
    "# Label encoding\n",
    "le_weather = preprocessing.LabelEncoder()\n",
    "le_temperature = preprocessing.LabelEncoder()\n",
    "le_play = preprocessing.LabelEncoder()\n",
    "\n",
    "weather_encoded = le_weather.fit_transform(weather)\n",
    "temperature_encoded = le_temperature.fit_transform(temperature)\n",
    "play_encoded = le_play.fit_transform(play)\n",
    "\n",
    "# Combine features\n",
    "features = list(zip(weather_encoded, temperature_encoded))\n",
    "\n",
    "# Split dataset\n",
    "features_train, features_test, label_train, label_test = train_test_split(features, play_encoded, test_size=0.2, random_state=42)\n",
    "\n",
    "# Generate KNN model\n",
    "model = KNeighborsClassifier(n_neighbors=3, metric='euclidean')\n",
    "\n",
    "# Fit the model\n",
    "model.fit(features_train, label_train)\n",
    "\n",
    "# Perform prediction\n",
    "predicted = model.predict(features_test)\n",
    "print(\"Prediction:\", le_play.inverse_transform(predicted))\n",
    "\n",
    "# Confusion Matrix\n",
    "conf_mat = confusion_matrix(label_test, predicted)\n",
    "print(\"Confusion Matrix:\")\n",
    "print(conf_mat)\n",
    "\n",
    "# Accuracy\n",
    "accuracy = accuracy_score(label_test, predicted)\n",
    "print(\"Accuracy:\", accuracy)\n"
   ]
  },
  {
   "cell_type": "code",
   "execution_count": 2,
   "id": "cf2e9386-b58b-4c66-aaf6-e3acf54c5095",
   "metadata": {},
   "outputs": [
    {
     "name": "stdout",
     "output_type": "stream",
     "text": [
      "Prediction for the new tissue paper: Yes\n"
     ]
    }
   ],
   "source": [
    "import numpy as np\n",
    "from sklearn.neighbors import KNeighborsClassifier\n",
    "\n",
    "# Training samples\n",
    "X = np.array([[1, 5], [2, 7], [3, 8], [4, 6]])  # Features (Acid durability, Strength)\n",
    "y = np.array(['No', 'No', 'Yes', 'Yes'])          # Labels (Classification)\n",
    "\n",
    "# New tissue paper attributes\n",
    "new_sample = np.array([[3, 7]])\n",
    "\n",
    "# KNN model\n",
    "model = KNeighborsClassifier(n_neighbors=3, metric='euclidean')\n",
    "\n",
    "# Fit the model\n",
    "model.fit(X, y)\n",
    "\n",
    "# Perform prediction\n",
    "prediction = model.predict(new_sample)\n",
    "print(\"Prediction for the new tissue paper:\", prediction[0])\n"
   ]
  },
  {
   "cell_type": "code",
   "execution_count": 3,
   "id": "ee42f064-08ed-48b5-a3c3-6436c7541351",
   "metadata": {},
   "outputs": [
    {
     "name": "stdout",
     "output_type": "stream",
     "text": [
      "Prediction for the new tissue paper: good\n"
     ]
    }
   ],
   "source": [
    "import numpy as np\n",
    "from sklearn.neighbors import KNeighborsClassifier\n",
    "\n",
    "# Training samples\n",
    "X = np.array([[7, 7], [7, 7], [3, 4], [1, 4]])  # Features (Acid durability, Strength)\n",
    "y = np.array(['bad', 'bad', 'good', 'good'])      # Labels (Classification)\n",
    "\n",
    "# New tissue paper attributes\n",
    "new_sample = np.array([[3, 7]])\n",
    "\n",
    "# Calculate distances\n",
    "distances = np.linalg.norm(X - new_sample, axis=1)\n",
    "\n",
    "# Sort distances and get the indices of the nearest neighbors\n",
    "k = 3\n",
    "nearest_indices = np.argsort(distances)[:k]\n",
    "\n",
    "# Gather the classifications of the nearest neighbors\n",
    "nearest_classes = y[nearest_indices]\n",
    "\n",
    "# Predict by majority voting\n",
    "prediction = np.bincount(nearest_classes == 'good').argmax()\n",
    "print(\"Prediction for the new tissue paper:\", 'good' if prediction == 1 else 'bad')\n"
   ]
  },
  {
   "cell_type": "code",
   "execution_count": null,
   "id": "05d765c4-72bd-40ab-b93b-d7064906da6c",
   "metadata": {},
   "outputs": [],
   "source": []
  }
 ],
 "metadata": {
  "kernelspec": {
   "display_name": "Python 3 (ipykernel)",
   "language": "python",
   "name": "python3"
  },
  "language_info": {
   "codemirror_mode": {
    "name": "ipython",
    "version": 3
   },
   "file_extension": ".py",
   "mimetype": "text/x-python",
   "name": "python",
   "nbconvert_exporter": "python",
   "pygments_lexer": "ipython3",
   "version": "3.11.7"
  }
 },
 "nbformat": 4,
 "nbformat_minor": 5
}
